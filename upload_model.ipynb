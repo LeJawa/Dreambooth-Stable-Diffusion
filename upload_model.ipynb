{
 "cells": [
  {
   "cell_type": "code",
   "execution_count": null,
   "id": "3772732a-e633-4cdb-9585-e616d39dded7",
   "metadata": {
    "collapsed": true,
    "jupyter": {
     "outputs_hidden": true
    },
    "tags": []
   },
   "outputs": [],
   "source": [
    "!pip install --upgrade google-api-python-client google-auth-httplib2 google-auth-oauthlib"
   ]
  },
  {
   "cell_type": "code",
   "execution_count": null,
   "id": "c5c21be6-adef-4a4c-b4f4-452613e20b0c",
   "metadata": {},
   "outputs": [],
   "source": [
    "from __future__ import print_function\n",
    "\n",
    "import os.path\n",
    "\n",
    "from google.auth.transport.requests import Request\n",
    "from google.oauth2.credentials import Credentials\n",
    "from google_auth_oauthlib.flow import InstalledAppFlow\n",
    "from googleapiclient.discovery import build\n",
    "from googleapiclient.errors import HttpError\n",
    "\n",
    "import mimetypes\n",
    "\n",
    "# If modifying these scopes, delete the file token.json.\n",
    "SCOPES = ['https://www.googleapis.com/auth/drive']\n",
    "\n",
    "\n",
    "def upload_model(path, filename):\n",
    "    \"\"\"Insert new file.\n",
    "    Returns : Id's of the file uploaded\n",
    "\n",
    "    Load pre-authorized user credentials from the environment.\n",
    "    TODO(developer) - See https://developers.google.com/identity\n",
    "    for guides on implementing OAuth2 for the application.\n",
    "    \"\"\"\n",
    "    creds = None\n",
    "    # The file token.json stores the user's access and refresh tokens, and is\n",
    "    # created automatically when the authorization flow completes for the first\n",
    "    # time.\n",
    "    if os.path.exists('token.json'):\n",
    "        creds = Credentials.from_authorized_user_file('token.json', SCOPES)\n",
    "    # If there are no (valid) credentials available, let the user log in.\n",
    "    if not creds or not creds.valid:\n",
    "        print(\"Couldn't load gdrive credentials. Please run drive_connect.py first.\")\n",
    "\n",
    "    try:\n",
    "        # create drive api client\n",
    "        service = build('drive', 'v3', credentials=creds)\n",
    "        \n",
    "        mimetype = mimetypes.guess_type(filename)\n",
    "        \n",
    "        real_folder_id = '1QKzZFTLCc_OJbOLIwKsnsO5zxGRyCc6v'\n",
    "\n",
    "        file_metadata = {'name': filename, 'parents': [real_folder_id]}\n",
    "        media = MediaFileUpload(os.path.join(path, filename),\n",
    "                                mimetype=mimetype[0], resumable=True)\n",
    "        # pylint: disable=maybe-no-member\n",
    "        file = service.files().create(body=file_metadata, media_body=media,\n",
    "                                      fields='id')\n",
    "        \n",
    "        response = None\n",
    "        while response is None:\n",
    "            status, response = file.next_chunk()\n",
    "            if status:\n",
    "                    print (\"Uploaded %d%%.\" % int(status.progress() * 100))\n",
    "\n",
    "        if file:\n",
    "            print(filename + \" uploaded successfully\")    \n",
    "\n",
    "    except HttpError as error:\n",
    "        print(F'An error occurred: {error}')\n",
    "        file = None\n",
    "\n"
   ]
  },
  {
   "cell_type": "code",
   "execution_count": null,
   "id": "44a984ae-1aa5-4ab5-9798-629e1094f729",
   "metadata": {},
   "outputs": [],
   "source": [
    "model = '2022-10-23T09-51-56_milenka_v1.5_18_training_images_2020_max_training_steps_Rakhee_Thakrar_token_woman_class_word.ckpt'\n",
    "model = '2022-10-23T11-35-13_luis_v1.5_20_training_images_2020_max_training_steps_Charlie_Cox_token_man_class_word.ckpt'\n",
    "\n",
    "model = '2022-10-23T12-45-20_alberto_v1.5_12_training_images_2020_max_training_steps_Tom_McCarthy_token_man_class_word.ckpt'\n",
    "model = '2022-10-23T15-04-45_mama_v1.5_12_training_images_2020_max_training_steps_Carrie_Fisher_token_woman_class_word.ckpt'\n",
    "model = '2022-10-23T13-55-33_papa_v1.5_12_training_images_2020_max_training_steps_Tom_McCarthy_token_man_class_word.ckpt'\n",
    "model = '2022-10-23T16-28-33_morgane_v1.5_7_training_images_2020_max_training_steps_Chelsea_Field_token_woman_class_word.ckpt'\n",
    "model = '2022-10-23T17-36-28_daniel_v1.5_7_training_images_2020_max_training_steps_Andrzej_Bartkowiak_token_man_class_word.ckpt'\n",
    "model = '2022-10-23T18-54-24_urbana_v1.5_8_training_images_1500_max_training_steps_Mira_Nair_token_woman_class_word.ckpt'\n",
    "model = '2022-10-23T19-57-57_kali_v1.5_5_training_images_1500_max_training_steps_Queen_Latifah_token_woman_class_word.ckpt'\n",
    "\n",
    "upload_model('trained_models', model)"
   ]
  },
  {
   "cell_type": "code",
   "execution_count": 12,
   "id": "e912274e",
   "metadata": {},
   "outputs": [
    {
     "ename": "KeyboardInterrupt",
     "evalue": "",
     "output_type": "error",
     "traceback": [
      "\u001b[1;31m---------------------------------------------------------------------------\u001b[0m",
      "\u001b[1;31mKeyboardInterrupt\u001b[0m                         Traceback (most recent call last)",
      "Cell \u001b[1;32mIn [12], line 56\u001b[0m\n\u001b[0;32m     52\u001b[0m     \u001b[39mreturn\u001b[39;00m file\u001b[39m.\u001b[39mgetvalue()\n\u001b[0;32m     55\u001b[0m \u001b[39mif\u001b[39;00m \u001b[39m__name__\u001b[39m \u001b[39m==\u001b[39m \u001b[39m'\u001b[39m\u001b[39m__main__\u001b[39m\u001b[39m'\u001b[39m:\n\u001b[1;32m---> 56\u001b[0m     download_file(real_file_id\u001b[39m=\u001b[39;49m\u001b[39m'\u001b[39;49m\u001b[39m1ouEy1ENypP_L0GQ_-ppXJ1sgKLLL7vv_\u001b[39;49m\u001b[39m'\u001b[39;49m)\n",
      "Cell \u001b[1;32mIn [12], line 45\u001b[0m, in \u001b[0;36mdownload_file\u001b[1;34m(real_file_id)\u001b[0m\n\u001b[0;32m     43\u001b[0m     done \u001b[39m=\u001b[39m \u001b[39mFalse\u001b[39;00m\n\u001b[0;32m     44\u001b[0m     \u001b[39mwhile\u001b[39;00m done \u001b[39mis\u001b[39;00m \u001b[39mFalse\u001b[39;00m:\n\u001b[1;32m---> 45\u001b[0m         status, done \u001b[39m=\u001b[39m downloader\u001b[39m.\u001b[39;49mnext_chunk()\n\u001b[0;32m     46\u001b[0m         \u001b[39mprint\u001b[39m(\u001b[39mF\u001b[39m\u001b[39m'\u001b[39m\u001b[39mDownload \u001b[39m\u001b[39m{\u001b[39;00m\u001b[39mint\u001b[39m(status\u001b[39m.\u001b[39mprogress() \u001b[39m*\u001b[39m \u001b[39m100\u001b[39m)\u001b[39m}\u001b[39;00m\u001b[39m.\u001b[39m\u001b[39m'\u001b[39m)\n\u001b[0;32m     48\u001b[0m \u001b[39mexcept\u001b[39;00m HttpError \u001b[39mas\u001b[39;00m error:\n",
      "File \u001b[1;32mc:\\Users\\Luis\\AppData\\Local\\Programs\\Python\\Python310\\lib\\site-packages\\googleapiclient\\_helpers.py:130\u001b[0m, in \u001b[0;36mpositional.<locals>.positional_decorator.<locals>.positional_wrapper\u001b[1;34m(*args, **kwargs)\u001b[0m\n\u001b[0;32m    128\u001b[0m     \u001b[39melif\u001b[39;00m positional_parameters_enforcement \u001b[39m==\u001b[39m POSITIONAL_WARNING:\n\u001b[0;32m    129\u001b[0m         logger\u001b[39m.\u001b[39mwarning(message)\n\u001b[1;32m--> 130\u001b[0m \u001b[39mreturn\u001b[39;00m wrapped(\u001b[39m*\u001b[39margs, \u001b[39m*\u001b[39m\u001b[39m*\u001b[39mkwargs)\n",
      "File \u001b[1;32mc:\\Users\\Luis\\AppData\\Local\\Programs\\Python\\Python310\\lib\\site-packages\\googleapiclient\\http.py:741\u001b[0m, in \u001b[0;36mMediaIoBaseDownload.next_chunk\u001b[1;34m(self, num_retries)\u001b[0m\n\u001b[0;32m    735\u001b[0m headers[\u001b[39m\"\u001b[39m\u001b[39mrange\u001b[39m\u001b[39m\"\u001b[39m] \u001b[39m=\u001b[39m \u001b[39m\"\u001b[39m\u001b[39mbytes=\u001b[39m\u001b[39m%d\u001b[39;00m\u001b[39m-\u001b[39m\u001b[39m%d\u001b[39;00m\u001b[39m\"\u001b[39m \u001b[39m%\u001b[39m (\n\u001b[0;32m    736\u001b[0m     \u001b[39mself\u001b[39m\u001b[39m.\u001b[39m_progress,\n\u001b[0;32m    737\u001b[0m     \u001b[39mself\u001b[39m\u001b[39m.\u001b[39m_progress \u001b[39m+\u001b[39m \u001b[39mself\u001b[39m\u001b[39m.\u001b[39m_chunksize \u001b[39m-\u001b[39m \u001b[39m1\u001b[39m,\n\u001b[0;32m    738\u001b[0m )\n\u001b[0;32m    739\u001b[0m http \u001b[39m=\u001b[39m \u001b[39mself\u001b[39m\u001b[39m.\u001b[39m_request\u001b[39m.\u001b[39mhttp\n\u001b[1;32m--> 741\u001b[0m resp, content \u001b[39m=\u001b[39m _retry_request(\n\u001b[0;32m    742\u001b[0m     http,\n\u001b[0;32m    743\u001b[0m     num_retries,\n\u001b[0;32m    744\u001b[0m     \u001b[39m\"\u001b[39;49m\u001b[39mmedia download\u001b[39;49m\u001b[39m\"\u001b[39;49m,\n\u001b[0;32m    745\u001b[0m     \u001b[39mself\u001b[39;49m\u001b[39m.\u001b[39;49m_sleep,\n\u001b[0;32m    746\u001b[0m     \u001b[39mself\u001b[39;49m\u001b[39m.\u001b[39;49m_rand,\n\u001b[0;32m    747\u001b[0m     \u001b[39mself\u001b[39;49m\u001b[39m.\u001b[39;49m_uri,\n\u001b[0;32m    748\u001b[0m     \u001b[39m\"\u001b[39;49m\u001b[39mGET\u001b[39;49m\u001b[39m\"\u001b[39;49m,\n\u001b[0;32m    749\u001b[0m     headers\u001b[39m=\u001b[39;49mheaders,\n\u001b[0;32m    750\u001b[0m )\n\u001b[0;32m    752\u001b[0m \u001b[39mif\u001b[39;00m resp\u001b[39m.\u001b[39mstatus \u001b[39min\u001b[39;00m [\u001b[39m200\u001b[39m, \u001b[39m206\u001b[39m]:\n\u001b[0;32m    753\u001b[0m     \u001b[39mif\u001b[39;00m \u001b[39m\"\u001b[39m\u001b[39mcontent-location\u001b[39m\u001b[39m\"\u001b[39m \u001b[39min\u001b[39;00m resp \u001b[39mand\u001b[39;00m resp[\u001b[39m\"\u001b[39m\u001b[39mcontent-location\u001b[39m\u001b[39m\"\u001b[39m] \u001b[39m!=\u001b[39m \u001b[39mself\u001b[39m\u001b[39m.\u001b[39m_uri:\n",
      "File \u001b[1;32mc:\\Users\\Luis\\AppData\\Local\\Programs\\Python\\Python310\\lib\\site-packages\\googleapiclient\\http.py:191\u001b[0m, in \u001b[0;36m_retry_request\u001b[1;34m(http, num_retries, req_type, sleep, rand, uri, method, *args, **kwargs)\u001b[0m\n\u001b[0;32m    189\u001b[0m \u001b[39mtry\u001b[39;00m:\n\u001b[0;32m    190\u001b[0m     exception \u001b[39m=\u001b[39m \u001b[39mNone\u001b[39;00m\n\u001b[1;32m--> 191\u001b[0m     resp, content \u001b[39m=\u001b[39m http\u001b[39m.\u001b[39mrequest(uri, method, \u001b[39m*\u001b[39margs, \u001b[39m*\u001b[39m\u001b[39m*\u001b[39mkwargs)\n\u001b[0;32m    192\u001b[0m \u001b[39m# Retry on SSL errors and socket timeout errors.\u001b[39;00m\n\u001b[0;32m    193\u001b[0m \u001b[39mexcept\u001b[39;00m _ssl_SSLError \u001b[39mas\u001b[39;00m ssl_error:\n",
      "File \u001b[1;32mc:\\Users\\Luis\\AppData\\Local\\Programs\\Python\\Python310\\lib\\site-packages\\google_auth_httplib2.py:218\u001b[0m, in \u001b[0;36mAuthorizedHttp.request\u001b[1;34m(self, uri, method, body, headers, redirections, connection_type, **kwargs)\u001b[0m\n\u001b[0;32m    215\u001b[0m     body_stream_position \u001b[39m=\u001b[39m body\u001b[39m.\u001b[39mtell()\n\u001b[0;32m    217\u001b[0m \u001b[39m# Make the request.\u001b[39;00m\n\u001b[1;32m--> 218\u001b[0m response, content \u001b[39m=\u001b[39m \u001b[39mself\u001b[39m\u001b[39m.\u001b[39mhttp\u001b[39m.\u001b[39mrequest(\n\u001b[0;32m    219\u001b[0m     uri,\n\u001b[0;32m    220\u001b[0m     method,\n\u001b[0;32m    221\u001b[0m     body\u001b[39m=\u001b[39mbody,\n\u001b[0;32m    222\u001b[0m     headers\u001b[39m=\u001b[39mrequest_headers,\n\u001b[0;32m    223\u001b[0m     redirections\u001b[39m=\u001b[39mredirections,\n\u001b[0;32m    224\u001b[0m     connection_type\u001b[39m=\u001b[39mconnection_type,\n\u001b[0;32m    225\u001b[0m     \u001b[39m*\u001b[39m\u001b[39m*\u001b[39mkwargs\n\u001b[0;32m    226\u001b[0m )\n\u001b[0;32m    228\u001b[0m \u001b[39m# If the response indicated that the credentials needed to be\u001b[39;00m\n\u001b[0;32m    229\u001b[0m \u001b[39m# refreshed, then refresh the credentials and re-attempt the\u001b[39;00m\n\u001b[0;32m    230\u001b[0m \u001b[39m# request.\u001b[39;00m\n\u001b[0;32m    231\u001b[0m \u001b[39m# A stored token may expire between the time it is retrieved and\u001b[39;00m\n\u001b[0;32m    232\u001b[0m \u001b[39m# the time the request is made, so we may need to try twice.\u001b[39;00m\n\u001b[0;32m    233\u001b[0m \u001b[39mif\u001b[39;00m (\n\u001b[0;32m    234\u001b[0m     response\u001b[39m.\u001b[39mstatus \u001b[39min\u001b[39;00m \u001b[39mself\u001b[39m\u001b[39m.\u001b[39m_refresh_status_codes\n\u001b[0;32m    235\u001b[0m     \u001b[39mand\u001b[39;00m _credential_refresh_attempt \u001b[39m<\u001b[39m \u001b[39mself\u001b[39m\u001b[39m.\u001b[39m_max_refresh_attempts\n\u001b[0;32m    236\u001b[0m ):\n",
      "File \u001b[1;32mc:\\Users\\Luis\\AppData\\Local\\Programs\\Python\\Python310\\lib\\site-packages\\httplib2\\__init__.py:1701\u001b[0m, in \u001b[0;36mHttp.request\u001b[1;34m(self, uri, method, body, headers, redirections, connection_type)\u001b[0m\n\u001b[0;32m   1699\u001b[0m             content \u001b[39m=\u001b[39m \u001b[39mb\u001b[39m\u001b[39m\"\u001b[39m\u001b[39m\"\u001b[39m\n\u001b[0;32m   1700\u001b[0m         \u001b[39melse\u001b[39;00m:\n\u001b[1;32m-> 1701\u001b[0m             (response, content) \u001b[39m=\u001b[39m \u001b[39mself\u001b[39;49m\u001b[39m.\u001b[39;49m_request(\n\u001b[0;32m   1702\u001b[0m                 conn, authority, uri, request_uri, method, body, headers, redirections, cachekey,\n\u001b[0;32m   1703\u001b[0m             )\n\u001b[0;32m   1704\u001b[0m \u001b[39mexcept\u001b[39;00m \u001b[39mException\u001b[39;00m \u001b[39mas\u001b[39;00m e:\n\u001b[0;32m   1705\u001b[0m     is_timeout \u001b[39m=\u001b[39m \u001b[39misinstance\u001b[39m(e, socket\u001b[39m.\u001b[39mtimeout)\n",
      "File \u001b[1;32mc:\\Users\\Luis\\AppData\\Local\\Programs\\Python\\Python310\\lib\\site-packages\\httplib2\\__init__.py:1421\u001b[0m, in \u001b[0;36mHttp._request\u001b[1;34m(self, conn, host, absolute_uri, request_uri, method, body, headers, redirections, cachekey)\u001b[0m\n\u001b[0;32m   1418\u001b[0m \u001b[39mif\u001b[39;00m auth:\n\u001b[0;32m   1419\u001b[0m     auth\u001b[39m.\u001b[39mrequest(method, request_uri, headers, body)\n\u001b[1;32m-> 1421\u001b[0m (response, content) \u001b[39m=\u001b[39m \u001b[39mself\u001b[39;49m\u001b[39m.\u001b[39;49m_conn_request(conn, request_uri, method, body, headers)\n\u001b[0;32m   1423\u001b[0m \u001b[39mif\u001b[39;00m auth:\n\u001b[0;32m   1424\u001b[0m     \u001b[39mif\u001b[39;00m auth\u001b[39m.\u001b[39mresponse(response, body):\n",
      "File \u001b[1;32mc:\\Users\\Luis\\AppData\\Local\\Programs\\Python\\Python310\\lib\\site-packages\\httplib2\\__init__.py:1402\u001b[0m, in \u001b[0;36mHttp._conn_request\u001b[1;34m(self, conn, request_uri, method, body, headers)\u001b[0m\n\u001b[0;32m   1400\u001b[0m     conn\u001b[39m.\u001b[39mclose()\n\u001b[0;32m   1401\u001b[0m \u001b[39melse\u001b[39;00m:\n\u001b[1;32m-> 1402\u001b[0m     content \u001b[39m=\u001b[39m response\u001b[39m.\u001b[39;49mread()\n\u001b[0;32m   1403\u001b[0m response \u001b[39m=\u001b[39m Response(response)\n\u001b[0;32m   1404\u001b[0m \u001b[39mif\u001b[39;00m method \u001b[39m!=\u001b[39m \u001b[39m\"\u001b[39m\u001b[39mHEAD\u001b[39m\u001b[39m\"\u001b[39m:\n",
      "File \u001b[1;32mc:\\Users\\Luis\\AppData\\Local\\Programs\\Python\\Python310\\lib\\http\\client.py:481\u001b[0m, in \u001b[0;36mHTTPResponse.read\u001b[1;34m(self, amt)\u001b[0m\n\u001b[0;32m    479\u001b[0m \u001b[39melse\u001b[39;00m:\n\u001b[0;32m    480\u001b[0m     \u001b[39mtry\u001b[39;00m:\n\u001b[1;32m--> 481\u001b[0m         s \u001b[39m=\u001b[39m \u001b[39mself\u001b[39;49m\u001b[39m.\u001b[39;49m_safe_read(\u001b[39mself\u001b[39;49m\u001b[39m.\u001b[39;49mlength)\n\u001b[0;32m    482\u001b[0m     \u001b[39mexcept\u001b[39;00m IncompleteRead:\n\u001b[0;32m    483\u001b[0m         \u001b[39mself\u001b[39m\u001b[39m.\u001b[39m_close_conn()\n",
      "File \u001b[1;32mc:\\Users\\Luis\\AppData\\Local\\Programs\\Python\\Python310\\lib\\http\\client.py:630\u001b[0m, in \u001b[0;36mHTTPResponse._safe_read\u001b[1;34m(self, amt)\u001b[0m\n\u001b[0;32m    623\u001b[0m \u001b[39mdef\u001b[39;00m \u001b[39m_safe_read\u001b[39m(\u001b[39mself\u001b[39m, amt):\n\u001b[0;32m    624\u001b[0m     \u001b[39m\"\"\"Read the number of bytes requested.\u001b[39;00m\n\u001b[0;32m    625\u001b[0m \n\u001b[0;32m    626\u001b[0m \u001b[39m    This function should be used when <amt> bytes \"should\" be present for\u001b[39;00m\n\u001b[0;32m    627\u001b[0m \u001b[39m    reading. If the bytes are truly not available (due to EOF), then the\u001b[39;00m\n\u001b[0;32m    628\u001b[0m \u001b[39m    IncompleteRead exception can be used to detect the problem.\u001b[39;00m\n\u001b[0;32m    629\u001b[0m \u001b[39m    \"\"\"\u001b[39;00m\n\u001b[1;32m--> 630\u001b[0m     data \u001b[39m=\u001b[39m \u001b[39mself\u001b[39;49m\u001b[39m.\u001b[39;49mfp\u001b[39m.\u001b[39;49mread(amt)\n\u001b[0;32m    631\u001b[0m     \u001b[39mif\u001b[39;00m \u001b[39mlen\u001b[39m(data) \u001b[39m<\u001b[39m amt:\n\u001b[0;32m    632\u001b[0m         \u001b[39mraise\u001b[39;00m IncompleteRead(data, amt\u001b[39m-\u001b[39m\u001b[39mlen\u001b[39m(data))\n",
      "File \u001b[1;32mc:\\Users\\Luis\\AppData\\Local\\Programs\\Python\\Python310\\lib\\socket.py:705\u001b[0m, in \u001b[0;36mSocketIO.readinto\u001b[1;34m(self, b)\u001b[0m\n\u001b[0;32m    703\u001b[0m \u001b[39mwhile\u001b[39;00m \u001b[39mTrue\u001b[39;00m:\n\u001b[0;32m    704\u001b[0m     \u001b[39mtry\u001b[39;00m:\n\u001b[1;32m--> 705\u001b[0m         \u001b[39mreturn\u001b[39;00m \u001b[39mself\u001b[39;49m\u001b[39m.\u001b[39;49m_sock\u001b[39m.\u001b[39;49mrecv_into(b)\n\u001b[0;32m    706\u001b[0m     \u001b[39mexcept\u001b[39;00m timeout:\n\u001b[0;32m    707\u001b[0m         \u001b[39mself\u001b[39m\u001b[39m.\u001b[39m_timeout_occurred \u001b[39m=\u001b[39m \u001b[39mTrue\u001b[39;00m\n",
      "File \u001b[1;32mc:\\Users\\Luis\\AppData\\Local\\Programs\\Python\\Python310\\lib\\ssl.py:1274\u001b[0m, in \u001b[0;36mSSLSocket.recv_into\u001b[1;34m(self, buffer, nbytes, flags)\u001b[0m\n\u001b[0;32m   1270\u001b[0m     \u001b[39mif\u001b[39;00m flags \u001b[39m!=\u001b[39m \u001b[39m0\u001b[39m:\n\u001b[0;32m   1271\u001b[0m         \u001b[39mraise\u001b[39;00m \u001b[39mValueError\u001b[39;00m(\n\u001b[0;32m   1272\u001b[0m           \u001b[39m\"\u001b[39m\u001b[39mnon-zero flags not allowed in calls to recv_into() on \u001b[39m\u001b[39m%s\u001b[39;00m\u001b[39m\"\u001b[39m \u001b[39m%\u001b[39m\n\u001b[0;32m   1273\u001b[0m           \u001b[39mself\u001b[39m\u001b[39m.\u001b[39m\u001b[39m__class__\u001b[39m)\n\u001b[1;32m-> 1274\u001b[0m     \u001b[39mreturn\u001b[39;00m \u001b[39mself\u001b[39;49m\u001b[39m.\u001b[39;49mread(nbytes, buffer)\n\u001b[0;32m   1275\u001b[0m \u001b[39melse\u001b[39;00m:\n\u001b[0;32m   1276\u001b[0m     \u001b[39mreturn\u001b[39;00m \u001b[39msuper\u001b[39m()\u001b[39m.\u001b[39mrecv_into(buffer, nbytes, flags)\n",
      "File \u001b[1;32mc:\\Users\\Luis\\AppData\\Local\\Programs\\Python\\Python310\\lib\\ssl.py:1130\u001b[0m, in \u001b[0;36mSSLSocket.read\u001b[1;34m(self, len, buffer)\u001b[0m\n\u001b[0;32m   1128\u001b[0m \u001b[39mtry\u001b[39;00m:\n\u001b[0;32m   1129\u001b[0m     \u001b[39mif\u001b[39;00m buffer \u001b[39mis\u001b[39;00m \u001b[39mnot\u001b[39;00m \u001b[39mNone\u001b[39;00m:\n\u001b[1;32m-> 1130\u001b[0m         \u001b[39mreturn\u001b[39;00m \u001b[39mself\u001b[39;49m\u001b[39m.\u001b[39;49m_sslobj\u001b[39m.\u001b[39;49mread(\u001b[39mlen\u001b[39;49m, buffer)\n\u001b[0;32m   1131\u001b[0m     \u001b[39melse\u001b[39;00m:\n\u001b[0;32m   1132\u001b[0m         \u001b[39mreturn\u001b[39;00m \u001b[39mself\u001b[39m\u001b[39m.\u001b[39m_sslobj\u001b[39m.\u001b[39mread(\u001b[39mlen\u001b[39m)\n",
      "\u001b[1;31mKeyboardInterrupt\u001b[0m: "
     ]
    }
   ],
   "source": []
  },
  {
   "cell_type": "code",
   "execution_count": 8,
   "id": "40c1fd55",
   "metadata": {},
   "outputs": [],
   "source": [
    "from apiclient import errors\n",
    "# ...\n",
    "\n",
    "def retrieve_all_files(service):\n",
    "  \"\"\"Retrieve a list of File resources.\n",
    "\n",
    "  Args:\n",
    "    service: Drive API service instance.\n",
    "  Returns:\n",
    "    List of File resources.\n",
    "  \"\"\"\n",
    "  result = []\n",
    "  page_token = None\n",
    "  while True:\n",
    "    try:\n",
    "      param = {}\n",
    "      if page_token:\n",
    "        param['pageToken'] = page_token\n",
    "      files = service.files().list(**param).execute()\n",
    "\n",
    "      result.extend(files['items'])\n",
    "      page_token = files.get('nextPageToken')\n",
    "      if not page_token:\n",
    "        break\n",
    "    except errors.HttpError as error:\n",
    "      print ('An error occurred: %s' % error)\n",
    "      break\n",
    "  return result\n",
    "    "
   ]
  },
  {
   "cell_type": "code",
   "execution_count": 11,
   "id": "cb828d65",
   "metadata": {},
   "outputs": [
    {
     "ename": "KeyError",
     "evalue": "'items'",
     "output_type": "error",
     "traceback": [
      "\u001b[1;31m---------------------------------------------------------------------------\u001b[0m",
      "\u001b[1;31mKeyError\u001b[0m                                  Traceback (most recent call last)",
      "Cell \u001b[1;32mIn [11], line 15\u001b[0m\n\u001b[0;32m     11\u001b[0m \u001b[39mtry\u001b[39;00m:\n\u001b[0;32m     12\u001b[0m     \u001b[39m# create drive api client\u001b[39;00m\n\u001b[0;32m     13\u001b[0m     service \u001b[39m=\u001b[39m build(\u001b[39m'\u001b[39m\u001b[39mdrive\u001b[39m\u001b[39m'\u001b[39m, \u001b[39m'\u001b[39m\u001b[39mv3\u001b[39m\u001b[39m'\u001b[39m, credentials\u001b[39m=\u001b[39mcreds)\n\u001b[1;32m---> 15\u001b[0m     retrieve_all_files(service)\n\u001b[0;32m     16\u001b[0m \u001b[39mexcept\u001b[39;00m errors\u001b[39m.\u001b[39mHttpError \u001b[39mas\u001b[39;00m error:\n\u001b[0;32m     17\u001b[0m     \u001b[39mprint\u001b[39m (\u001b[39m'\u001b[39m\u001b[39mAn error occurred: \u001b[39m\u001b[39m%s\u001b[39;00m\u001b[39m'\u001b[39m \u001b[39m%\u001b[39m error)\n",
      "Cell \u001b[1;32mIn [8], line 21\u001b[0m, in \u001b[0;36mretrieve_all_files\u001b[1;34m(service)\u001b[0m\n\u001b[0;32m     18\u001b[0m   param[\u001b[39m'\u001b[39m\u001b[39mpageToken\u001b[39m\u001b[39m'\u001b[39m] \u001b[39m=\u001b[39m page_token\n\u001b[0;32m     19\u001b[0m files \u001b[39m=\u001b[39m service\u001b[39m.\u001b[39mfiles()\u001b[39m.\u001b[39mlist(\u001b[39m*\u001b[39m\u001b[39m*\u001b[39mparam)\u001b[39m.\u001b[39mexecute()\n\u001b[1;32m---> 21\u001b[0m result\u001b[39m.\u001b[39mextend(files[\u001b[39m'\u001b[39;49m\u001b[39mitems\u001b[39;49m\u001b[39m'\u001b[39;49m])\n\u001b[0;32m     22\u001b[0m page_token \u001b[39m=\u001b[39m files\u001b[39m.\u001b[39mget(\u001b[39m'\u001b[39m\u001b[39mnextPageToken\u001b[39m\u001b[39m'\u001b[39m)\n\u001b[0;32m     23\u001b[0m \u001b[39mif\u001b[39;00m \u001b[39mnot\u001b[39;00m page_token:\n",
      "\u001b[1;31mKeyError\u001b[0m: 'items'"
     ]
    }
   ],
   "source": [
    "creds = None\n",
    "# The file token.json stores the user's access and refresh tokens, and is\n",
    "# created automatically when the authorization flow completes for the first\n",
    "# time.\n",
    "if os.path.exists('token.json'):\n",
    "    creds = Credentials.from_authorized_user_file('token.json', SCOPES)\n",
    "# If there are no (valid) credentials available, let the user log in.\n",
    "if not creds or not creds.valid:\n",
    "    print(\"Couldn't load gdrive credentials. Please run drive_connect.py first.\")\n",
    "\n",
    "try:\n",
    "    # create drive api client\n",
    "    service = build('drive', 'v3', credentials=creds)\n",
    "\n",
    "    retrieve_all_files(service)\n",
    "except errors.HttpError as error:\n",
    "    print ('An error occurred: %s' % error)"
   ]
  }
 ],
 "metadata": {
  "kernelspec": {
   "display_name": "Python 3",
   "language": "python",
   "name": "python3"
  },
  "language_info": {
   "codemirror_mode": {
    "name": "ipython",
    "version": 3
   },
   "file_extension": ".py",
   "mimetype": "text/x-python",
   "name": "python",
   "nbconvert_exporter": "python",
   "pygments_lexer": "ipython3",
   "version": "3.10.6"
  },
  "vscode": {
   "interpreter": {
    "hash": "323d1892a3217eb0f4db6041660d5c1546636e2d429706ca4ab8fde40b13a00b"
   }
  }
 },
 "nbformat": 4,
 "nbformat_minor": 5
}
