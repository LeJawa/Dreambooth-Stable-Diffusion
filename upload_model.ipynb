{
 "cells": [
  {
   "cell_type": "code",
   "execution_count": null,
   "id": "3772732a-e633-4cdb-9585-e616d39dded7",
   "metadata": {
    "collapsed": true,
    "jupyter": {
     "outputs_hidden": true
    },
    "tags": []
   },
   "outputs": [],
   "source": [
    "!pip install --upgrade google-api-python-client google-auth-httplib2 google-auth-oauthlib"
   ]
  },
  {
   "cell_type": "code",
   "execution_count": null,
   "id": "c5c21be6-adef-4a4c-b4f4-452613e20b0c",
   "metadata": {},
   "outputs": [],
   "source": [
    "from __future__ import print_function\n",
    "\n",
    "import os.path\n",
    "\n",
    "from google.auth.transport.requests import Request\n",
    "from google.oauth2.credentials import Credentials\n",
    "from google_auth_oauthlib.flow import InstalledAppFlow\n",
    "from googleapiclient.discovery import build\n",
    "from googleapiclient.errors import HttpError\n",
    "\n",
    "import mimetypes\n",
    "\n",
    "# If modifying these scopes, delete the file token.json.\n",
    "SCOPES = ['https://www.googleapis.com/auth/drive']\n",
    "\n",
    "\n",
    "def upload_model(path, filename):\n",
    "    \"\"\"Insert new file.\n",
    "    Returns : Id's of the file uploaded\n",
    "\n",
    "    Load pre-authorized user credentials from the environment.\n",
    "    TODO(developer) - See https://developers.google.com/identity\n",
    "    for guides on implementing OAuth2 for the application.\n",
    "    \"\"\"\n",
    "    creds = None\n",
    "    # The file token.json stores the user's access and refresh tokens, and is\n",
    "    # created automatically when the authorization flow completes for the first\n",
    "    # time.\n",
    "    if os.path.exists('token.json'):\n",
    "        creds = Credentials.from_authorized_user_file('token.json', SCOPES)\n",
    "    # If there are no (valid) credentials available, let the user log in.\n",
    "    if not creds or not creds.valid:\n",
    "        if creds and creds.expired and creds.refresh_token:\n",
    "            creds.refresh(Request())\n",
    "        else:\n",
    "            flow = InstalledAppFlow.from_client_secrets_file(\n",
    "                'credentials.json', SCOPES)\n",
    "            creds = flow.run_local_server(port=0)\n",
    "        # Save the credentials for the next run\n",
    "        with open('token.json', 'w') as token:\n",
    "            token.write(creds.to_json())\n",
    "\n",
    "    try:\n",
    "        # create drive api client\n",
    "        service = build('drive', 'v3', credentials=creds)\n",
    "        \n",
    "        mimetype = mimetypes.guess_type(filename)\n",
    "        \n",
    "        real_folder_id = '1QKzZFTLCc_OJbOLIwKsnsO5zxGRyCc6v'\n",
    "\n",
    "        file_metadata = {'name': filename, 'parents': [real_folder_id]}\n",
    "        media = MediaFileUpload(os.path.join(path, filename),\n",
    "                                mimetype=mimetype[0], resumable=True)\n",
    "        # pylint: disable=maybe-no-member\n",
    "        file = service.files().create(body=file_metadata, media_body=media,\n",
    "                                      fields='id')\n",
    "        \n",
    "        response = None\n",
    "        while response is None:\n",
    "            status, response = file.next_chunk()\n",
    "            if status:\n",
    "                    print (\"Uploaded %d%%.\" % int(status.progress() * 100))\n",
    "\n",
    "        if file:\n",
    "            print(filename + \" uploaded successfully\")    \n",
    "\n",
    "    except HttpError as error:\n",
    "        print(F'An error occurred: {error}')\n",
    "        file = None\n",
    "\n"
   ]
  },
  {
   "cell_type": "code",
   "execution_count": null,
   "id": "44a984ae-1aa5-4ab5-9798-629e1094f729",
   "metadata": {},
   "outputs": [],
   "source": [
    "model = '2022-10-23T09-51-56_milenka_v1.5_18_training_images_2020_max_training_steps_Rakhee_Thakrar_token_woman_class_word.ckpt'\n",
    "model = '2022-10-23T11-35-13_luis_v1.5_20_training_images_2020_max_training_steps_Charlie_Cox_token_man_class_word.ckpt'\n",
    "\n",
    "model = '2022-10-23T12-45-20_alberto_v1.5_12_training_images_2020_max_training_steps_Tom_McCarthy_token_man_class_word.ckpt'\n",
    "model = '2022-10-23T15-04-45_mama_v1.5_12_training_images_2020_max_training_steps_Carrie_Fisher_token_woman_class_word.ckpt'\n",
    "model = '2022-10-23T13-55-33_papa_v1.5_12_training_images_2020_max_training_steps_Tom_McCarthy_token_man_class_word.ckpt'\n",
    "model = '2022-10-23T16-28-33_morgane_v1.5_7_training_images_2020_max_training_steps_Chelsea_Field_token_woman_class_word.ckpt'\n",
    "model = '2022-10-23T17-36-28_daniel_v1.5_7_training_images_2020_max_training_steps_Andrzej_Bartkowiak_token_man_class_word.ckpt'\n",
    "model = '2022-10-23T18-54-24_urbana_v1.5_8_training_images_1500_max_training_steps_Mira_Nair_token_woman_class_word.ckpt'\n",
    "model = '2022-10-23T19-57-57_kali_v1.5_5_training_images_1500_max_training_steps_Queen_Latifah_token_woman_class_word.ckpt'\n",
    "\n",
    "upload_model('trained_models', model)"
   ]
  }
 ],
 "metadata": {
  "kernelspec": {
   "display_name": "Python 3",
   "language": "python",
   "name": "python3"
  },
  "language_info": {
   "codemirror_mode": {
    "name": "ipython",
    "version": 3
   },
   "file_extension": ".py",
   "mimetype": "text/x-python",
   "name": "python",
   "nbconvert_exporter": "python",
   "pygments_lexer": "ipython3",
   "version": "3.10.6 (tags/v3.10.6:9c7b4bd, Aug  1 2022, 21:53:49) [MSC v.1932 64 bit (AMD64)]"
  },
  "vscode": {
   "interpreter": {
    "hash": "323d1892a3217eb0f4db6041660d5c1546636e2d429706ca4ab8fde40b13a00b"
   }
  }
 },
 "nbformat": 4,
 "nbformat_minor": 5
}
