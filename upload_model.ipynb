{
 "cells": [
  {
   "cell_type": "code",
   "execution_count": 1,
   "id": "3772732a-e633-4cdb-9585-e616d39dded7",
   "metadata": {
    "collapsed": true,
    "jupyter": {
     "outputs_hidden": true
    },
    "tags": []
   },
   "outputs": [
    {
     "name": "stdout",
     "output_type": "stream",
     "text": [
      "Collecting google-api-python-client\n",
      "  Downloading google_api_python_client-2.65.0-py2.py3-none-any.whl (10.4 MB)\n",
      "\u001b[K     |████████████████████████████████| 10.4 MB 5.7 MB/s eta 0:00:01\n",
      "\u001b[?25hCollecting google-auth-httplib2\n",
      "  Downloading google_auth_httplib2-0.1.0-py2.py3-none-any.whl (9.3 kB)\n",
      "Requirement already satisfied: google-auth-oauthlib in /opt/conda/lib/python3.7/site-packages (0.4.6)\n",
      "Collecting google-auth-oauthlib\n",
      "  Downloading google_auth_oauthlib-0.5.3-py2.py3-none-any.whl (19 kB)\n",
      "Collecting google-api-core!=2.0.*,!=2.1.*,!=2.2.*,!=2.3.0,<3.0.0dev,>=1.31.5\n",
      "  Downloading google_api_core-2.10.2-py3-none-any.whl (115 kB)\n",
      "\u001b[K     |████████████████████████████████| 115 kB 81.0 MB/s eta 0:00:01\n",
      "\u001b[?25hCollecting uritemplate<5,>=3.0.1\n",
      "  Downloading uritemplate-4.1.1-py2.py3-none-any.whl (10 kB)\n",
      "Requirement already satisfied: google-auth<3.0.0dev,>=1.19.0 in /opt/conda/lib/python3.7/site-packages (from google-api-python-client) (2.13.0)\n",
      "Collecting httplib2<1dev,>=0.15.0\n",
      "  Downloading httplib2-0.20.4-py3-none-any.whl (96 kB)\n",
      "\u001b[K     |████████████████████████████████| 96 kB 11.3 MB/s eta 0:00:01\n",
      "\u001b[?25hRequirement already satisfied: six in /opt/conda/lib/python3.7/site-packages (from google-auth-httplib2) (1.16.0)\n",
      "Requirement already satisfied: requests-oauthlib>=0.7.0 in /opt/conda/lib/python3.7/site-packages (from google-auth-oauthlib) (1.3.1)\n",
      "Requirement already satisfied: protobuf!=3.20.0,!=3.20.1,!=4.21.0,!=4.21.1,!=4.21.2,!=4.21.3,!=4.21.4,!=4.21.5,<5.0.0dev,>=3.19.5 in /opt/conda/lib/python3.7/site-packages (from google-api-core!=2.0.*,!=2.1.*,!=2.2.*,!=2.3.0,<3.0.0dev,>=1.31.5->google-api-python-client) (3.19.6)\n",
      "Requirement already satisfied: requests<3.0.0dev,>=2.18.0 in /opt/conda/lib/python3.7/site-packages (from google-api-core!=2.0.*,!=2.1.*,!=2.2.*,!=2.3.0,<3.0.0dev,>=1.31.5->google-api-python-client) (2.27.1)\n",
      "Collecting googleapis-common-protos<2.0dev,>=1.56.2\n",
      "  Downloading googleapis_common_protos-1.56.4-py2.py3-none-any.whl (211 kB)\n",
      "\u001b[K     |████████████████████████████████| 211 kB 74.8 MB/s eta 0:00:01\n",
      "\u001b[?25hRequirement already satisfied: cachetools<6.0,>=2.0.0 in /opt/conda/lib/python3.7/site-packages (from google-auth<3.0.0dev,>=1.19.0->google-api-python-client) (5.2.0)\n",
      "Requirement already satisfied: pyasn1-modules>=0.2.1 in /opt/conda/lib/python3.7/site-packages (from google-auth<3.0.0dev,>=1.19.0->google-api-python-client) (0.2.8)\n",
      "Requirement already satisfied: rsa<5,>=3.1.4 in /opt/conda/lib/python3.7/site-packages (from google-auth<3.0.0dev,>=1.19.0->google-api-python-client) (4.9)\n",
      "Requirement already satisfied: pyparsing!=3.0.0,!=3.0.1,!=3.0.2,!=3.0.3,<4,>=2.4.2 in /opt/conda/lib/python3.7/site-packages (from httplib2<1dev,>=0.15.0->google-api-python-client) (3.0.9)\n",
      "Requirement already satisfied: pyasn1<0.5.0,>=0.4.6 in /opt/conda/lib/python3.7/site-packages (from pyasn1-modules>=0.2.1->google-auth<3.0.0dev,>=1.19.0->google-api-python-client) (0.4.8)\n",
      "Requirement already satisfied: idna<4,>=2.5 in /opt/conda/lib/python3.7/site-packages (from requests<3.0.0dev,>=2.18.0->google-api-core!=2.0.*,!=2.1.*,!=2.2.*,!=2.3.0,<3.0.0dev,>=1.31.5->google-api-python-client) (3.3)\n",
      "Requirement already satisfied: certifi>=2017.4.17 in /opt/conda/lib/python3.7/site-packages (from requests<3.0.0dev,>=2.18.0->google-api-core!=2.0.*,!=2.1.*,!=2.2.*,!=2.3.0,<3.0.0dev,>=1.31.5->google-api-python-client) (2022.6.15)\n",
      "Requirement already satisfied: urllib3<1.27,>=1.21.1 in /opt/conda/lib/python3.7/site-packages (from requests<3.0.0dev,>=2.18.0->google-api-core!=2.0.*,!=2.1.*,!=2.2.*,!=2.3.0,<3.0.0dev,>=1.31.5->google-api-python-client) (1.26.8)\n",
      "Requirement already satisfied: charset-normalizer~=2.0.0 in /opt/conda/lib/python3.7/site-packages (from requests<3.0.0dev,>=2.18.0->google-api-core!=2.0.*,!=2.1.*,!=2.2.*,!=2.3.0,<3.0.0dev,>=1.31.5->google-api-python-client) (2.0.4)\n",
      "Requirement already satisfied: oauthlib>=3.0.0 in /opt/conda/lib/python3.7/site-packages (from requests-oauthlib>=0.7.0->google-auth-oauthlib) (3.2.2)\n",
      "Installing collected packages: httplib2, googleapis-common-protos, uritemplate, google-auth-httplib2, google-api-core, google-auth-oauthlib, google-api-python-client\n",
      "  Attempting uninstall: google-auth-oauthlib\n",
      "    Found existing installation: google-auth-oauthlib 0.4.6\n",
      "    Uninstalling google-auth-oauthlib-0.4.6:\n",
      "      Successfully uninstalled google-auth-oauthlib-0.4.6\n",
      "\u001b[31mERROR: pip's dependency resolver does not currently take into account all the packages that are installed. This behaviour is the source of the following dependency conflicts.\n",
      "tensorboard 2.10.1 requires google-auth-oauthlib<0.5,>=0.4.1, but you have google-auth-oauthlib 0.5.3 which is incompatible.\u001b[0m\n",
      "Successfully installed google-api-core-2.10.2 google-api-python-client-2.65.0 google-auth-httplib2-0.1.0 google-auth-oauthlib-0.5.3 googleapis-common-protos-1.56.4 httplib2-0.20.4 uritemplate-4.1.1\n",
      "\u001b[33mWARNING: Running pip as the 'root' user can result in broken permissions and conflicting behaviour with the system package manager. It is recommended to use a virtual environment instead: https://pip.pypa.io/warnings/venv\u001b[0m\n"
     ]
    }
   ],
   "source": [
    "!pip install --upgrade google-api-python-client google-auth-httplib2 google-auth-oauthlib"
   ]
  },
  {
   "cell_type": "code",
   "execution_count": 49,
   "id": "c5c21be6-adef-4a4c-b4f4-452613e20b0c",
   "metadata": {},
   "outputs": [
    {
     "name": "stdout",
     "output_type": "stream",
     "text": [
      "(None, None)\n",
      "File with ID: \"1D4vKWOT5x-qGipYko9qMyyFfLAG-zz6t\" has added to the folder with ID \"1QKzZFTLCc_OJbOLIwKsnsO5zxGRyCc6v\".\n"
     ]
    },
    {
     "data": {
      "text/plain": [
       "'1D4vKWOT5x-qGipYko9qMyyFfLAG-zz6t'"
      ]
     },
     "execution_count": 49,
     "metadata": {},
     "output_type": "execute_result"
    }
   ],
   "source": [
    "from __future__ import print_function\n",
    "\n",
    "import os.path\n",
    "\n",
    "from google.auth.transport.requests import Request\n",
    "from google.oauth2.credentials import Credentials\n",
    "from google_auth_oauthlib.flow import InstalledAppFlow\n",
    "from googleapiclient.discovery import build\n",
    "from googleapiclient.errors import HttpError\n",
    "\n",
    "import mimetypes\n",
    "\n",
    "# If modifying these scopes, delete the file token.json.\n",
    "SCOPES = ['https://www.googleapis.com/auth/drive']\n",
    "\n",
    "\n",
    "def upload_model(path, filename):\n",
    "    \"\"\"Insert new file.\n",
    "    Returns : Id's of the file uploaded\n",
    "\n",
    "    Load pre-authorized user credentials from the environment.\n",
    "    TODO(developer) - See https://developers.google.com/identity\n",
    "    for guides on implementing OAuth2 for the application.\n",
    "    \"\"\"\n",
    "    creds = None\n",
    "    # The file token.json stores the user's access and refresh tokens, and is\n",
    "    # created automatically when the authorization flow completes for the first\n",
    "    # time.\n",
    "    if os.path.exists('token.json'):\n",
    "        creds = Credentials.from_authorized_user_file('token.json', SCOPES)\n",
    "    # If there are no (valid) credentials available, let the user log in.\n",
    "    if not creds or not creds.valid:\n",
    "        if creds and creds.expired and creds.refresh_token:\n",
    "            creds.refresh(Request())\n",
    "        else:\n",
    "            flow = InstalledAppFlow.from_client_secrets_file(\n",
    "                'credentials.json', SCOPES)\n",
    "            creds = flow.run_local_server(port=0)\n",
    "        # Save the credentials for the next run\n",
    "        with open('token.json', 'w') as token:\n",
    "            token.write(creds.to_json())\n",
    "\n",
    "    try:\n",
    "        # create drive api client\n",
    "        service = build('drive', 'v3', credentials=creds)\n",
    "        \n",
    "        mimetype = mimetypes.guess_type(filename)\n",
    "        \n",
    "        real_folder_id = '1QKzZFTLCc_OJbOLIwKsnsO5zxGRyCc6v'\n",
    "\n",
    "        file_metadata = {'name': filename, 'parents': [real_folder_id]}\n",
    "        media = MediaFileUpload(os.path.join(path, filename),\n",
    "                                mimetype=mimetype[0], resumable=True)\n",
    "        # pylint: disable=maybe-no-member\n",
    "        file = service.files().create(body=file_metadata, media_body=media,\n",
    "                                      fields='id')\n",
    "        \n",
    "        response = None\n",
    "        while response is None:\n",
    "            status, response = file.next_chunk()\n",
    "            if status:\n",
    "                    print (\"Uploaded %d%%.\" % int(status.progress() * 100))\n",
    "\n",
    "        if file:\n",
    "            print(filename + \" uploaded successfully\")    \n",
    "\n",
    "    except HttpError as error:\n",
    "        print(F'An error occurred: {error}')\n",
    "        file = None\n",
    "\n"
   ]
  },
  {
   "cell_type": "code",
   "execution_count": 48,
   "id": "44a984ae-1aa5-4ab5-9798-629e1094f729",
   "metadata": {},
   "outputs": [
    {
     "data": {
      "text/plain": [
       "'trained_models/test.py'"
      ]
     },
     "execution_count": 48,
     "metadata": {},
     "output_type": "execute_result"
    }
   ],
   "source": [
    "model = '2022-10-23T09-51-56_milenka_v1.5_18_training_images_2020_max_training_steps_Rakhee_Thakrar_token_woman_class_word.ckpt'\n",
    "model = '2022-10-23T11-35-13_luis_v1.5_20_training_images_2020_max_training_steps_Charlie_Cox_token_man_class_word.ckpt'\n",
    "\n",
    "model = '2022-10-23T12-45-20_alberto_v1.5_12_training_images_2020_max_training_steps_Tom_McCarthy_token_man_class_word.ckpt'\n",
    "model = '2022-10-23T15-04-45_mama_v1.5_12_training_images_2020_max_training_steps_Carrie_Fisher_token_woman_class_word.ckpt'\n",
    "model = '2022-10-23T13-55-33_papa_v1.5_12_training_images_2020_max_training_steps_Tom_McCarthy_token_man_class_word.ckpt'\n",
    "model = '2022-10-23T16-28-33_morgane_v1.5_7_training_images_2020_max_training_steps_Chelsea_Field_token_woman_class_word.ckpt'\n",
    "model = '2022-10-23T17-36-28_daniel_v1.5_7_training_images_2020_max_training_steps_Andrzej_Bartkowiak_token_man_class_word.ckpt'\n",
    "model = '2022-10-23T18-54-24_urbana_v1.5_8_training_images_1500_max_training_steps_Mira_Nair_token_woman_class_word.ckpt'\n",
    "model = '2022-10-23T19-57-57_kali_v1.5_5_training_images_1500_max_training_steps_Queen_Latifah_token_woman_class_word.ckpt'\n",
    "\n",
    "upload_model('trained_models', model)"
   ]
  }
 ],
 "metadata": {
  "kernelspec": {
   "display_name": "Python 3",
   "language": "python",
   "name": "python3"
  },
  "language_info": {
   "codemirror_mode": {
    "name": "ipython",
    "version": 3
   },
   "file_extension": ".py",
   "mimetype": "text/x-python",
   "name": "python",
   "nbconvert_exporter": "python",
   "pygments_lexer": "ipython3",
   "version": "3.10.6 (tags/v3.10.6:9c7b4bd, Aug  1 2022, 21:53:49) [MSC v.1932 64 bit (AMD64)]"
  },
  "vscode": {
   "interpreter": {
    "hash": "323d1892a3217eb0f4db6041660d5c1546636e2d429706ca4ab8fde40b13a00b"
   }
  }
 },
 "nbformat": 4,
 "nbformat_minor": 5
}
